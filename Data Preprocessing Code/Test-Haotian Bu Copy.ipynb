{
 "cells": [
  {
   "cell_type": "markdown",
   "metadata": {},
   "source": [
    "### Datasets:\n",
    "\n",
    "Here's one dataset for food prices https://www.kaggle.com/jboysen/global-food-prices\n",
    "\n",
    "Here is the dataset for temperature and rainfalls http://sdwebx.worldbank.org/climateportal/index.cfm?page=downscaled_data_download&menu=historical"
   ]
  },
  {
   "cell_type": "markdown",
   "metadata": {},
   "source": [
    "### Hypothesis: \n",
    "\n",
    "Do changes in average monthly temperature and average monthly rainfall affect the change in the average monthly price of potatoes in Peru from 2005 to 2015?"
   ]
  },
  {
   "cell_type": "markdown",
   "metadata": {},
   "source": [
    "# Cleaning the data\n",
    "read_csv() coding issues- utf-8 didn't work, use iso-8859-1 instead\n",
    "## Price Dataset\n"
   ]
  },
  {
   "cell_type": "code",
   "execution_count": 1,
   "metadata": {},
   "outputs": [],
   "source": [
    "import pandas as pd\n",
    "\n",
    "CsvFile='https://raw.githubusercontent.com/vzakhozhyi/599-A-Final-Project/master/Data/wfp_market_food_prices.csv'\n",
    "##\n",
    "dataCsv=pd.read_csv(CsvFile,header=0, encoding = \"ISO-8859-1\")"
   ]
  },
  {
   "cell_type": "code",
   "execution_count": 2,
   "metadata": {},
   "outputs": [
    {
     "name": "stdout",
     "output_type": "stream",
     "text": [
      "<class 'pandas.core.frame.DataFrame'>\n",
      "RangeIndex: 743914 entries, 0 to 743913\n",
      "Data columns (total 18 columns):\n",
      "adm0_id               743914 non-null int64\n",
      "adm0_name             743914 non-null object\n",
      "adm1_id               743914 non-null int64\n",
      "adm1_name             729965 non-null object\n",
      "mkt_id                743914 non-null int64\n",
      "mkt_name              743914 non-null object\n",
      "cm_id                 743914 non-null int64\n",
      "cm_name               743914 non-null object\n",
      "cur_id                743914 non-null int64\n",
      "cur_name              743914 non-null object\n",
      "pt_id                 743914 non-null int64\n",
      "pt_name               743914 non-null object\n",
      "um_id                 743914 non-null int64\n",
      "um_name               743914 non-null object\n",
      "mp_month              743914 non-null int64\n",
      "mp_year               743914 non-null int64\n",
      "mp_price              743914 non-null float64\n",
      "mp_commoditysource    743914 non-null object\n",
      "dtypes: float64(1), int64(9), object(8)\n",
      "memory usage: 102.2+ MB\n"
     ]
    }
   ],
   "source": [
    "dataCsv.info()"
   ]
  },
  {
   "cell_type": "code",
   "execution_count": 3,
   "metadata": {},
   "outputs": [
    {
     "data": {
      "text/plain": [
       "array(['Afghanistan', 'Algeria', 'Armenia', 'Azerbaijan', 'Bangladesh',\n",
       "       'Benin', 'Bhutan', 'Bolivia', 'Burkina Faso', 'Burundi',\n",
       "       'Cambodia', 'Cameroon', 'Cape Verde', 'Central African Republic',\n",
       "       'Chad', 'Colombia', 'Congo', 'Costa Rica', \"Cote d'Ivoire\",\n",
       "       'Democratic Republic of the Congo', 'Djibouti', 'El Salvador',\n",
       "       'Ethiopia', 'Gambia', 'Georgia', 'Ghana', 'Guatemala',\n",
       "       'Guinea-Bissau', 'Guinea', 'Haiti', 'Honduras', 'India',\n",
       "       'Indonesia', 'Iran  (Islamic Republic of)', 'Iraq', 'Jordan',\n",
       "       'Kenya', 'Kyrgyzstan', \"Lao People's Democratic Republic\",\n",
       "       'Lebanon', 'Lesotho', 'Liberia', 'Madagascar', 'Malawi', 'Mali',\n",
       "       'Mauritania', 'Mozambique', 'Myanmar', 'Nepal', 'Niger', 'Nigeria',\n",
       "       'Pakistan', 'Panama', 'Peru', 'Philippines', 'Rwanda', 'Senegal',\n",
       "       'Somalia', 'Sri Lanka', 'Swaziland', 'Syrian Arab Republic',\n",
       "       'Tajikistan', 'Timor-Leste', 'Turkey', 'Uganda', 'Ukraine',\n",
       "       'United Republic of Tanzania', 'Yemen', 'Zambia', 'Zimbabwe',\n",
       "       'State of Palestine', 'Sudan', 'Egypt', 'South Sudan'],\n",
       "      dtype=object)"
      ]
     },
     "execution_count": 3,
     "metadata": {},
     "output_type": "execute_result"
    }
   ],
   "source": [
    "dataCsv.adm0_name.unique()"
   ]
  },
  {
   "cell_type": "markdown",
   "metadata": {},
   "source": [
    "Define our traget countries and crops."
   ]
  },
  {
   "cell_type": "code",
   "execution_count": 4,
   "metadata": {},
   "outputs": [],
   "source": [
    "TargetCountry = [ \"Peru\"] #'Bolivia', 'Colombia'"
   ]
  },
  {
   "cell_type": "markdown",
   "metadata": {},
   "source": [
    "Let's see what we have."
   ]
  },
  {
   "cell_type": "code",
   "execution_count": 19,
   "metadata": {},
   "outputs": [],
   "source": [
    "#dataCsv.head"
   ]
  },
  {
   "cell_type": "code",
   "execution_count": 18,
   "metadata": {
    "scrolled": false
   },
   "outputs": [],
   "source": [
    "#dataCsv.tail"
   ]
  },
  {
   "cell_type": "markdown",
   "metadata": {},
   "source": [
    "Subset the dataset."
   ]
  },
  {
   "cell_type": "code",
   "execution_count": 5,
   "metadata": {},
   "outputs": [],
   "source": [
    "PeruPrice = dataCsv[dataCsv.adm0_name.isin(TargetCountry)]"
   ]
  },
  {
   "cell_type": "markdown",
   "metadata": {},
   "source": [
    "Show unique values of crops in each target countries."
   ]
  },
  {
   "cell_type": "code",
   "execution_count": 6,
   "metadata": {
    "scrolled": true
   },
   "outputs": [
    {
     "data": {
      "text/plain": [
       "array(['Maize (local)', 'Rice (local)', 'Potatoes', 'Meat (chicken)',\n",
       "       'Oil (vegetable)', 'Sugar', 'Wheat flour (locally processed)'],\n",
       "      dtype=object)"
      ]
     },
     "execution_count": 6,
     "metadata": {},
     "output_type": "execute_result"
    }
   ],
   "source": [
    "PeruPrice.cm_name.unique()"
   ]
  },
  {
   "cell_type": "code",
   "execution_count": 7,
   "metadata": {},
   "outputs": [],
   "source": [
    "TargetCrop = [\"Potatoes\"] #\"Potatoes (Dutch)\""
   ]
  },
  {
   "cell_type": "code",
   "execution_count": 8,
   "metadata": {},
   "outputs": [],
   "source": [
    "PeruPrice = PeruPrice[PeruPrice.cm_name.isin(TargetCrop)]"
   ]
  },
  {
   "cell_type": "markdown",
   "metadata": {},
   "source": [
    "Delete useless columns."
   ]
  },
  {
   "cell_type": "code",
   "execution_count": 10,
   "metadata": {},
   "outputs": [],
   "source": [
    "# This is what we want get rid of:\n",
    "ByeColumns = ['adm0_id', 'adm1_id','mkt_id','cm_id','cur_id','pt_id','um_id']#,'mp_commoditysource']\n",
    "\n",
    "#this would change the original: GhanaYamPrice.drop(byeColumns,axis=1,inplace=False)\n",
    "PeruPrice=PeruPrice.drop(ByeColumns,axis=1, inplace=False).reset_index(drop=True)\n"
   ]
  },
  {
   "cell_type": "markdown",
   "metadata": {},
   "source": [
    "Unified the name of potatoes."
   ]
  },
  {
   "cell_type": "code",
   "execution_count": 17,
   "metadata": {},
   "outputs": [],
   "source": [
    "#Price['cm_name'] = Price['cm_name'].replace(['Potatoes (Dutch)'], 'Potatoes')"
   ]
  },
  {
   "cell_type": "code",
   "execution_count": 11,
   "metadata": {},
   "outputs": [
    {
     "data": {
      "text/html": [
       "<div>\n",
       "<style scoped>\n",
       "    .dataframe tbody tr th:only-of-type {\n",
       "        vertical-align: middle;\n",
       "    }\n",
       "\n",
       "    .dataframe tbody tr th {\n",
       "        vertical-align: top;\n",
       "    }\n",
       "\n",
       "    .dataframe thead th {\n",
       "        text-align: right;\n",
       "    }\n",
       "</style>\n",
       "<table border=\"1\" class=\"dataframe\">\n",
       "  <thead>\n",
       "    <tr style=\"text-align: right;\">\n",
       "      <th></th>\n",
       "      <th>adm0_name</th>\n",
       "      <th>adm1_name</th>\n",
       "      <th>mkt_name</th>\n",
       "      <th>cm_name</th>\n",
       "      <th>cur_name</th>\n",
       "      <th>pt_name</th>\n",
       "      <th>um_name</th>\n",
       "      <th>mp_month</th>\n",
       "      <th>mp_year</th>\n",
       "      <th>mp_price</th>\n",
       "      <th>mp_commoditysource</th>\n",
       "    </tr>\n",
       "  </thead>\n",
       "  <tbody>\n",
       "    <tr>\n",
       "      <th>116</th>\n",
       "      <td>Peru</td>\n",
       "      <td>Lima</td>\n",
       "      <td>Lima</td>\n",
       "      <td>Potatoes</td>\n",
       "      <td>PEN</td>\n",
       "      <td>Retail</td>\n",
       "      <td>KG</td>\n",
       "      <td>10</td>\n",
       "      <td>2015</td>\n",
       "      <td>1.72</td>\n",
       "      <td>http://iinei.inei.gob.pe/iinei/siemweb/publico/</td>\n",
       "    </tr>\n",
       "    <tr>\n",
       "      <th>117</th>\n",
       "      <td>Peru</td>\n",
       "      <td>Lima</td>\n",
       "      <td>Lima</td>\n",
       "      <td>Potatoes</td>\n",
       "      <td>PEN</td>\n",
       "      <td>Retail</td>\n",
       "      <td>KG</td>\n",
       "      <td>11</td>\n",
       "      <td>2015</td>\n",
       "      <td>2.17</td>\n",
       "      <td>http://iinei.inei.gob.pe/iinei/siemweb/publico/</td>\n",
       "    </tr>\n",
       "    <tr>\n",
       "      <th>118</th>\n",
       "      <td>Peru</td>\n",
       "      <td>Lima</td>\n",
       "      <td>Lima</td>\n",
       "      <td>Potatoes</td>\n",
       "      <td>PEN</td>\n",
       "      <td>Retail</td>\n",
       "      <td>KG</td>\n",
       "      <td>12</td>\n",
       "      <td>2015</td>\n",
       "      <td>2.49</td>\n",
       "      <td>http://iinei.inei.gob.pe/iinei/siemweb/publico/</td>\n",
       "    </tr>\n",
       "    <tr>\n",
       "      <th>119</th>\n",
       "      <td>Peru</td>\n",
       "      <td>Lima</td>\n",
       "      <td>Lima</td>\n",
       "      <td>Potatoes</td>\n",
       "      <td>PEN</td>\n",
       "      <td>Retail</td>\n",
       "      <td>KG</td>\n",
       "      <td>1</td>\n",
       "      <td>2016</td>\n",
       "      <td>2.67</td>\n",
       "      <td>http://iinei.inei.gob.pe/iinei/siemweb/publico/</td>\n",
       "    </tr>\n",
       "    <tr>\n",
       "      <th>120</th>\n",
       "      <td>Peru</td>\n",
       "      <td>Lima</td>\n",
       "      <td>Lima</td>\n",
       "      <td>Potatoes</td>\n",
       "      <td>PEN</td>\n",
       "      <td>Retail</td>\n",
       "      <td>KG</td>\n",
       "      <td>2</td>\n",
       "      <td>2016</td>\n",
       "      <td>2.44</td>\n",
       "      <td>http://iinei.inei.gob.pe/iinei/siemweb/publico/</td>\n",
       "    </tr>\n",
       "    <tr>\n",
       "      <th>121</th>\n",
       "      <td>Peru</td>\n",
       "      <td>Lima</td>\n",
       "      <td>Lima</td>\n",
       "      <td>Potatoes</td>\n",
       "      <td>PEN</td>\n",
       "      <td>Retail</td>\n",
       "      <td>KG</td>\n",
       "      <td>3</td>\n",
       "      <td>2016</td>\n",
       "      <td>2.05</td>\n",
       "      <td>http://iinei.inei.gob.pe/iinei/siemweb/publico/</td>\n",
       "    </tr>\n",
       "    <tr>\n",
       "      <th>122</th>\n",
       "      <td>Peru</td>\n",
       "      <td>Lima</td>\n",
       "      <td>Lima</td>\n",
       "      <td>Potatoes</td>\n",
       "      <td>PEN</td>\n",
       "      <td>Retail</td>\n",
       "      <td>KG</td>\n",
       "      <td>4</td>\n",
       "      <td>2016</td>\n",
       "      <td>1.72</td>\n",
       "      <td>http://iinei.inei.gob.pe/iinei/siemweb/publico/</td>\n",
       "    </tr>\n",
       "    <tr>\n",
       "      <th>123</th>\n",
       "      <td>Peru</td>\n",
       "      <td>Lima</td>\n",
       "      <td>Lima</td>\n",
       "      <td>Potatoes</td>\n",
       "      <td>PEN</td>\n",
       "      <td>Retail</td>\n",
       "      <td>KG</td>\n",
       "      <td>5</td>\n",
       "      <td>2016</td>\n",
       "      <td>1.67</td>\n",
       "      <td>http://iinei.inei.gob.pe/iinei/siemweb/publico/</td>\n",
       "    </tr>\n",
       "    <tr>\n",
       "      <th>124</th>\n",
       "      <td>Peru</td>\n",
       "      <td>Lima</td>\n",
       "      <td>Lima</td>\n",
       "      <td>Potatoes</td>\n",
       "      <td>PEN</td>\n",
       "      <td>Retail</td>\n",
       "      <td>KG</td>\n",
       "      <td>6</td>\n",
       "      <td>2016</td>\n",
       "      <td>1.66</td>\n",
       "      <td>http://iinei.inei.gob.pe/iinei/siemweb/publico/</td>\n",
       "    </tr>\n",
       "    <tr>\n",
       "      <th>125</th>\n",
       "      <td>Peru</td>\n",
       "      <td>Lima</td>\n",
       "      <td>Lima</td>\n",
       "      <td>Potatoes</td>\n",
       "      <td>PEN</td>\n",
       "      <td>Retail</td>\n",
       "      <td>KG</td>\n",
       "      <td>7</td>\n",
       "      <td>2016</td>\n",
       "      <td>1.81</td>\n",
       "      <td>http://iinei.inei.gob.pe/iinei/siemweb/publico/</td>\n",
       "    </tr>\n",
       "  </tbody>\n",
       "</table>\n",
       "</div>"
      ],
      "text/plain": [
       "    adm0_name adm1_name mkt_name   cm_name cur_name pt_name um_name  mp_month  \\\n",
       "116      Peru      Lima     Lima  Potatoes      PEN  Retail      KG        10   \n",
       "117      Peru      Lima     Lima  Potatoes      PEN  Retail      KG        11   \n",
       "118      Peru      Lima     Lima  Potatoes      PEN  Retail      KG        12   \n",
       "119      Peru      Lima     Lima  Potatoes      PEN  Retail      KG         1   \n",
       "120      Peru      Lima     Lima  Potatoes      PEN  Retail      KG         2   \n",
       "121      Peru      Lima     Lima  Potatoes      PEN  Retail      KG         3   \n",
       "122      Peru      Lima     Lima  Potatoes      PEN  Retail      KG         4   \n",
       "123      Peru      Lima     Lima  Potatoes      PEN  Retail      KG         5   \n",
       "124      Peru      Lima     Lima  Potatoes      PEN  Retail      KG         6   \n",
       "125      Peru      Lima     Lima  Potatoes      PEN  Retail      KG         7   \n",
       "\n",
       "     mp_year  mp_price                               mp_commoditysource  \n",
       "116     2015      1.72  http://iinei.inei.gob.pe/iinei/siemweb/publico/  \n",
       "117     2015      2.17  http://iinei.inei.gob.pe/iinei/siemweb/publico/  \n",
       "118     2015      2.49  http://iinei.inei.gob.pe/iinei/siemweb/publico/  \n",
       "119     2016      2.67  http://iinei.inei.gob.pe/iinei/siemweb/publico/  \n",
       "120     2016      2.44  http://iinei.inei.gob.pe/iinei/siemweb/publico/  \n",
       "121     2016      2.05  http://iinei.inei.gob.pe/iinei/siemweb/publico/  \n",
       "122     2016      1.72  http://iinei.inei.gob.pe/iinei/siemweb/publico/  \n",
       "123     2016      1.67  http://iinei.inei.gob.pe/iinei/siemweb/publico/  \n",
       "124     2016      1.66  http://iinei.inei.gob.pe/iinei/siemweb/publico/  \n",
       "125     2016      1.81  http://iinei.inei.gob.pe/iinei/siemweb/publico/  "
      ]
     },
     "execution_count": 11,
     "metadata": {},
     "output_type": "execute_result"
    }
   ],
   "source": [
    "PeruPrice.tail(10)"
   ]
  },
  {
   "cell_type": "markdown",
   "metadata": {},
   "source": [
    "Calculate average price of Potatoes by country."
   ]
  },
  {
   "cell_type": "code",
   "execution_count": 12,
   "metadata": {},
   "outputs": [],
   "source": [
    "PriceData = PeruPrice.groupby(['adm0_name','cm_name','mp_year','mp_month'], as_index=False)[['mp_price']].mean()"
   ]
  },
  {
   "cell_type": "markdown",
   "metadata": {},
   "source": [
    "data.groupby('month', as_index=False).agg({\"duration\": \"sum\"}), The groupby output will have an index or multi-index on rows corresponding to your chosen grouping variables. To avoid setting this index, pass “as_index=False” to the groupby operation.\n",
    "\n"
   ]
  },
  {
   "cell_type": "code",
   "execution_count": 13,
   "metadata": {},
   "outputs": [
    {
     "data": {
      "text/plain": [
       "['adm0_name', 'cm_name', 'mp_year', 'mp_month', 'mp_price']"
      ]
     },
     "execution_count": 13,
     "metadata": {},
     "output_type": "execute_result"
    }
   ],
   "source": [
    "list(PriceData)"
   ]
  },
  {
   "cell_type": "code",
   "execution_count": 14,
   "metadata": {},
   "outputs": [],
   "source": [
    "PriceData.columns=['country','crop','year','month','price']"
   ]
  },
  {
   "cell_type": "code",
   "execution_count": 15,
   "metadata": {},
   "outputs": [
    {
     "data": {
      "text/html": [
       "<div>\n",
       "<style scoped>\n",
       "    .dataframe tbody tr th:only-of-type {\n",
       "        vertical-align: middle;\n",
       "    }\n",
       "\n",
       "    .dataframe tbody tr th {\n",
       "        vertical-align: top;\n",
       "    }\n",
       "\n",
       "    .dataframe thead th {\n",
       "        text-align: right;\n",
       "    }\n",
       "</style>\n",
       "<table border=\"1\" class=\"dataframe\">\n",
       "  <thead>\n",
       "    <tr style=\"text-align: right;\">\n",
       "      <th></th>\n",
       "      <th>country</th>\n",
       "      <th>crop</th>\n",
       "      <th>year</th>\n",
       "      <th>month</th>\n",
       "      <th>price</th>\n",
       "    </tr>\n",
       "  </thead>\n",
       "  <tbody>\n",
       "    <tr>\n",
       "      <th>116</th>\n",
       "      <td>Peru</td>\n",
       "      <td>Potatoes</td>\n",
       "      <td>2015</td>\n",
       "      <td>10</td>\n",
       "      <td>1.72</td>\n",
       "    </tr>\n",
       "    <tr>\n",
       "      <th>117</th>\n",
       "      <td>Peru</td>\n",
       "      <td>Potatoes</td>\n",
       "      <td>2015</td>\n",
       "      <td>11</td>\n",
       "      <td>2.17</td>\n",
       "    </tr>\n",
       "    <tr>\n",
       "      <th>118</th>\n",
       "      <td>Peru</td>\n",
       "      <td>Potatoes</td>\n",
       "      <td>2015</td>\n",
       "      <td>12</td>\n",
       "      <td>2.49</td>\n",
       "    </tr>\n",
       "    <tr>\n",
       "      <th>119</th>\n",
       "      <td>Peru</td>\n",
       "      <td>Potatoes</td>\n",
       "      <td>2016</td>\n",
       "      <td>1</td>\n",
       "      <td>2.67</td>\n",
       "    </tr>\n",
       "    <tr>\n",
       "      <th>120</th>\n",
       "      <td>Peru</td>\n",
       "      <td>Potatoes</td>\n",
       "      <td>2016</td>\n",
       "      <td>2</td>\n",
       "      <td>2.44</td>\n",
       "    </tr>\n",
       "    <tr>\n",
       "      <th>121</th>\n",
       "      <td>Peru</td>\n",
       "      <td>Potatoes</td>\n",
       "      <td>2016</td>\n",
       "      <td>3</td>\n",
       "      <td>2.05</td>\n",
       "    </tr>\n",
       "    <tr>\n",
       "      <th>122</th>\n",
       "      <td>Peru</td>\n",
       "      <td>Potatoes</td>\n",
       "      <td>2016</td>\n",
       "      <td>4</td>\n",
       "      <td>1.72</td>\n",
       "    </tr>\n",
       "    <tr>\n",
       "      <th>123</th>\n",
       "      <td>Peru</td>\n",
       "      <td>Potatoes</td>\n",
       "      <td>2016</td>\n",
       "      <td>5</td>\n",
       "      <td>1.67</td>\n",
       "    </tr>\n",
       "    <tr>\n",
       "      <th>124</th>\n",
       "      <td>Peru</td>\n",
       "      <td>Potatoes</td>\n",
       "      <td>2016</td>\n",
       "      <td>6</td>\n",
       "      <td>1.66</td>\n",
       "    </tr>\n",
       "    <tr>\n",
       "      <th>125</th>\n",
       "      <td>Peru</td>\n",
       "      <td>Potatoes</td>\n",
       "      <td>2016</td>\n",
       "      <td>7</td>\n",
       "      <td>1.81</td>\n",
       "    </tr>\n",
       "  </tbody>\n",
       "</table>\n",
       "</div>"
      ],
      "text/plain": [
       "    country      crop  year  month  price\n",
       "116    Peru  Potatoes  2015     10   1.72\n",
       "117    Peru  Potatoes  2015     11   2.17\n",
       "118    Peru  Potatoes  2015     12   2.49\n",
       "119    Peru  Potatoes  2016      1   2.67\n",
       "120    Peru  Potatoes  2016      2   2.44\n",
       "121    Peru  Potatoes  2016      3   2.05\n",
       "122    Peru  Potatoes  2016      4   1.72\n",
       "123    Peru  Potatoes  2016      5   1.67\n",
       "124    Peru  Potatoes  2016      6   1.66\n",
       "125    Peru  Potatoes  2016      7   1.81"
      ]
     },
     "execution_count": 15,
     "metadata": {},
     "output_type": "execute_result"
    }
   ],
   "source": [
    "PriceData.tail(10)"
   ]
  },
  {
   "cell_type": "code",
   "execution_count": 16,
   "metadata": {},
   "outputs": [],
   "source": [
    "TargetYear = range(2006,2016)\n",
    "PriceData = PriceData[PriceData.year.isin(TargetYear)]"
   ]
  },
  {
   "cell_type": "code",
   "execution_count": 18,
   "metadata": {},
   "outputs": [
    {
     "data": {
      "text/html": [
       "<div>\n",
       "<style scoped>\n",
       "    .dataframe tbody tr th:only-of-type {\n",
       "        vertical-align: middle;\n",
       "    }\n",
       "\n",
       "    .dataframe tbody tr th {\n",
       "        vertical-align: top;\n",
       "    }\n",
       "\n",
       "    .dataframe thead th {\n",
       "        text-align: right;\n",
       "    }\n",
       "</style>\n",
       "<table border=\"1\" class=\"dataframe\">\n",
       "  <thead>\n",
       "    <tr style=\"text-align: right;\">\n",
       "      <th></th>\n",
       "      <th>country</th>\n",
       "      <th>crop</th>\n",
       "      <th>year</th>\n",
       "      <th>month</th>\n",
       "      <th>price</th>\n",
       "    </tr>\n",
       "  </thead>\n",
       "  <tbody>\n",
       "    <tr>\n",
       "      <th>0</th>\n",
       "      <td>Peru</td>\n",
       "      <td>Potatoes</td>\n",
       "      <td>2006</td>\n",
       "      <td>1</td>\n",
       "      <td>1.05</td>\n",
       "    </tr>\n",
       "    <tr>\n",
       "      <th>1</th>\n",
       "      <td>Peru</td>\n",
       "      <td>Potatoes</td>\n",
       "      <td>2006</td>\n",
       "      <td>2</td>\n",
       "      <td>1.17</td>\n",
       "    </tr>\n",
       "    <tr>\n",
       "      <th>2</th>\n",
       "      <td>Peru</td>\n",
       "      <td>Potatoes</td>\n",
       "      <td>2006</td>\n",
       "      <td>3</td>\n",
       "      <td>1.21</td>\n",
       "    </tr>\n",
       "    <tr>\n",
       "      <th>3</th>\n",
       "      <td>Peru</td>\n",
       "      <td>Potatoes</td>\n",
       "      <td>2006</td>\n",
       "      <td>4</td>\n",
       "      <td>1.21</td>\n",
       "    </tr>\n",
       "    <tr>\n",
       "      <th>4</th>\n",
       "      <td>Peru</td>\n",
       "      <td>Potatoes</td>\n",
       "      <td>2006</td>\n",
       "      <td>5</td>\n",
       "      <td>1.12</td>\n",
       "    </tr>\n",
       "    <tr>\n",
       "      <th>5</th>\n",
       "      <td>Peru</td>\n",
       "      <td>Potatoes</td>\n",
       "      <td>2006</td>\n",
       "      <td>6</td>\n",
       "      <td>1.05</td>\n",
       "    </tr>\n",
       "    <tr>\n",
       "      <th>6</th>\n",
       "      <td>Peru</td>\n",
       "      <td>Potatoes</td>\n",
       "      <td>2006</td>\n",
       "      <td>7</td>\n",
       "      <td>1.02</td>\n",
       "    </tr>\n",
       "    <tr>\n",
       "      <th>7</th>\n",
       "      <td>Peru</td>\n",
       "      <td>Potatoes</td>\n",
       "      <td>2006</td>\n",
       "      <td>8</td>\n",
       "      <td>1.02</td>\n",
       "    </tr>\n",
       "    <tr>\n",
       "      <th>8</th>\n",
       "      <td>Peru</td>\n",
       "      <td>Potatoes</td>\n",
       "      <td>2006</td>\n",
       "      <td>9</td>\n",
       "      <td>1.08</td>\n",
       "    </tr>\n",
       "    <tr>\n",
       "      <th>9</th>\n",
       "      <td>Peru</td>\n",
       "      <td>Potatoes</td>\n",
       "      <td>2006</td>\n",
       "      <td>10</td>\n",
       "      <td>1.08</td>\n",
       "    </tr>\n",
       "  </tbody>\n",
       "</table>\n",
       "</div>"
      ],
      "text/plain": [
       "  country      crop  year  month  price\n",
       "0    Peru  Potatoes  2006      1   1.05\n",
       "1    Peru  Potatoes  2006      2   1.17\n",
       "2    Peru  Potatoes  2006      3   1.21\n",
       "3    Peru  Potatoes  2006      4   1.21\n",
       "4    Peru  Potatoes  2006      5   1.12\n",
       "5    Peru  Potatoes  2006      6   1.05\n",
       "6    Peru  Potatoes  2006      7   1.02\n",
       "7    Peru  Potatoes  2006      8   1.02\n",
       "8    Peru  Potatoes  2006      9   1.08\n",
       "9    Peru  Potatoes  2006     10   1.08"
      ]
     },
     "execution_count": 18,
     "metadata": {},
     "output_type": "execute_result"
    }
   ],
   "source": [
    "PriceData.head(10)"
   ]
  },
  {
   "cell_type": "code",
   "execution_count": 17,
   "metadata": {},
   "outputs": [
    {
     "data": {
      "text/html": [
       "<div>\n",
       "<style scoped>\n",
       "    .dataframe tbody tr th:only-of-type {\n",
       "        vertical-align: middle;\n",
       "    }\n",
       "\n",
       "    .dataframe tbody tr th {\n",
       "        vertical-align: top;\n",
       "    }\n",
       "\n",
       "    .dataframe thead th {\n",
       "        text-align: right;\n",
       "    }\n",
       "</style>\n",
       "<table border=\"1\" class=\"dataframe\">\n",
       "  <thead>\n",
       "    <tr style=\"text-align: right;\">\n",
       "      <th></th>\n",
       "      <th>country</th>\n",
       "      <th>crop</th>\n",
       "      <th>year</th>\n",
       "      <th>month</th>\n",
       "      <th>price</th>\n",
       "    </tr>\n",
       "  </thead>\n",
       "  <tbody>\n",
       "    <tr>\n",
       "      <th>109</th>\n",
       "      <td>Peru</td>\n",
       "      <td>Potatoes</td>\n",
       "      <td>2015</td>\n",
       "      <td>3</td>\n",
       "      <td>1.90</td>\n",
       "    </tr>\n",
       "    <tr>\n",
       "      <th>110</th>\n",
       "      <td>Peru</td>\n",
       "      <td>Potatoes</td>\n",
       "      <td>2015</td>\n",
       "      <td>4</td>\n",
       "      <td>1.83</td>\n",
       "    </tr>\n",
       "    <tr>\n",
       "      <th>111</th>\n",
       "      <td>Peru</td>\n",
       "      <td>Potatoes</td>\n",
       "      <td>2015</td>\n",
       "      <td>5</td>\n",
       "      <td>1.66</td>\n",
       "    </tr>\n",
       "    <tr>\n",
       "      <th>112</th>\n",
       "      <td>Peru</td>\n",
       "      <td>Potatoes</td>\n",
       "      <td>2015</td>\n",
       "      <td>6</td>\n",
       "      <td>1.56</td>\n",
       "    </tr>\n",
       "    <tr>\n",
       "      <th>113</th>\n",
       "      <td>Peru</td>\n",
       "      <td>Potatoes</td>\n",
       "      <td>2015</td>\n",
       "      <td>7</td>\n",
       "      <td>1.49</td>\n",
       "    </tr>\n",
       "    <tr>\n",
       "      <th>114</th>\n",
       "      <td>Peru</td>\n",
       "      <td>Potatoes</td>\n",
       "      <td>2015</td>\n",
       "      <td>8</td>\n",
       "      <td>1.52</td>\n",
       "    </tr>\n",
       "    <tr>\n",
       "      <th>115</th>\n",
       "      <td>Peru</td>\n",
       "      <td>Potatoes</td>\n",
       "      <td>2015</td>\n",
       "      <td>9</td>\n",
       "      <td>1.56</td>\n",
       "    </tr>\n",
       "    <tr>\n",
       "      <th>116</th>\n",
       "      <td>Peru</td>\n",
       "      <td>Potatoes</td>\n",
       "      <td>2015</td>\n",
       "      <td>10</td>\n",
       "      <td>1.72</td>\n",
       "    </tr>\n",
       "    <tr>\n",
       "      <th>117</th>\n",
       "      <td>Peru</td>\n",
       "      <td>Potatoes</td>\n",
       "      <td>2015</td>\n",
       "      <td>11</td>\n",
       "      <td>2.17</td>\n",
       "    </tr>\n",
       "    <tr>\n",
       "      <th>118</th>\n",
       "      <td>Peru</td>\n",
       "      <td>Potatoes</td>\n",
       "      <td>2015</td>\n",
       "      <td>12</td>\n",
       "      <td>2.49</td>\n",
       "    </tr>\n",
       "  </tbody>\n",
       "</table>\n",
       "</div>"
      ],
      "text/plain": [
       "    country      crop  year  month  price\n",
       "109    Peru  Potatoes  2015      3   1.90\n",
       "110    Peru  Potatoes  2015      4   1.83\n",
       "111    Peru  Potatoes  2015      5   1.66\n",
       "112    Peru  Potatoes  2015      6   1.56\n",
       "113    Peru  Potatoes  2015      7   1.49\n",
       "114    Peru  Potatoes  2015      8   1.52\n",
       "115    Peru  Potatoes  2015      9   1.56\n",
       "116    Peru  Potatoes  2015     10   1.72\n",
       "117    Peru  Potatoes  2015     11   2.17\n",
       "118    Peru  Potatoes  2015     12   2.49"
      ]
     },
     "execution_count": 17,
     "metadata": {},
     "output_type": "execute_result"
    }
   ],
   "source": [
    "PriceData.tail(10)"
   ]
  },
  {
   "cell_type": "markdown",
   "metadata": {},
   "source": [
    "Saving files to R:"
   ]
  },
  {
   "cell_type": "code",
   "execution_count": 19,
   "metadata": {},
   "outputs": [],
   "source": [
    "PriceData.to_csv(\"PeruPriceFinal.csv\",index=None)"
   ]
  },
  {
   "cell_type": "markdown",
   "metadata": {},
   "source": [
    "## Temperature Data"
   ]
  },
  {
   "cell_type": "code",
   "execution_count": 29,
   "metadata": {},
   "outputs": [],
   "source": [
    "Temps = [\"Temp\" + \"_\" +str(country)  for country in TargetCountry]\n",
    "Rainfalls = [\"Rainfall\" + \"_\" +str(country)  for country in TargetCountry ]\n",
    "LinkTemps = [\"https://github.com/vzakhozhyi/599-A-Final-Project/blob/master/Data/\"+str(country)+\".xls?raw=true\" for country in Temps]\n",
    "LinkRainfalls = [\"https://github.com/vzakhozhyi/599-A-Final-Project/blob/master/Data/\"+str(country)+\".xls?raw=true\" for country in Rainfalls]"
   ]
  },
  {
   "cell_type": "code",
   "execution_count": 30,
   "metadata": {},
   "outputs": [
    {
     "data": {
      "text/plain": [
       "(['Temp_Bolivia', 'Temp_Peru', 'Temp_Colombia'],\n",
       " ['Rainfall_Bolivia', 'Rainfall_Peru', 'Rainfall_Colombia'],\n",
       " ['https://github.com/vzakhozhyi/599-A-Final-Project/blob/master/Data/Temp_Bolivia.xls?raw=true',\n",
       "  'https://github.com/vzakhozhyi/599-A-Final-Project/blob/master/Data/Temp_Peru.xls?raw=true',\n",
       "  'https://github.com/vzakhozhyi/599-A-Final-Project/blob/master/Data/Temp_Colombia.xls?raw=true'],\n",
       " ['https://github.com/vzakhozhyi/599-A-Final-Project/blob/master/Data/Rainfall_Bolivia.xls?raw=true',\n",
       "  'https://github.com/vzakhozhyi/599-A-Final-Project/blob/master/Data/Rainfall_Peru.xls?raw=true',\n",
       "  'https://github.com/vzakhozhyi/599-A-Final-Project/blob/master/Data/Rainfall_Colombia.xls?raw=true'])"
      ]
     },
     "execution_count": 30,
     "metadata": {},
     "output_type": "execute_result"
    }
   ],
   "source": [
    "Temps, Rainfalls, LinkTemps, LinkRainfalls"
   ]
  },
  {
   "cell_type": "code",
   "execution_count": 31,
   "metadata": {},
   "outputs": [],
   "source": [
    "TempData = []\n",
    "RainfallData = []\n",
    "\n",
    "n = 0\n",
    "k = 0\n",
    "\n",
    "for i in LinkTemps:\n",
    "    df1 = pd.read_excel(i)\n",
    "    TempData.append(df1)\n",
    "\n",
    "for j in LinkRainfalls:\n",
    "    df2 = pd.read_excel(j)\n",
    "    RainfallData.append(df2)\n",
    "    \n",
    "    "
   ]
  },
  {
   "cell_type": "markdown",
   "metadata": {},
   "source": [
    "Here is the temp data."
   ]
  },
  {
   "cell_type": "code",
   "execution_count": 52,
   "metadata": {},
   "outputs": [],
   "source": [
    "#TempData[TempData.Month==1]"
   ]
  },
  {
   "cell_type": "code",
   "execution_count": 53,
   "metadata": {},
   "outputs": [],
   "source": [
    "#RainfallData"
   ]
  },
  {
   "cell_type": "markdown",
   "metadata": {},
   "source": [
    "# Merge the dataset"
   ]
  },
  {
   "cell_type": "markdown",
   "metadata": {},
   "source": [
    "Load cleaned dataset:"
   ]
  },
  {
   "cell_type": "code",
   "execution_count": 20,
   "metadata": {},
   "outputs": [],
   "source": [
    "pricelink = \"https://raw.githubusercontent.com/vzakhozhyi/599-A-Final-Project/master/Data/PeruPriceFinal.csv\"\n",
    "templink = \"https://raw.githubusercontent.com/vzakhozhyi/599-A-Final-Project/master/Data/PeruTemperatureFinal.csv\"\n",
    "rainfalllink = \"https://raw.githubusercontent.com/vzakhozhyi/599-A-Final-Project/master/Data/PeruRainfallFinal.csv\"\n",
    "\n",
    "\n",
    "PriceFinal = pd.read_csv(pricelink,header=0)\n",
    "TempFinal = pd.read_csv(templink,header=0)\n",
    "RainfallFinal = pd.read_csv(rainfalllink,header=0)"
   ]
  },
  {
   "cell_type": "code",
   "execution_count": null,
   "metadata": {},
   "outputs": [],
   "source": [
    "#result = pd.merge(, right, on=['key1', 'key2'])"
   ]
  },
  {
   "cell_type": "markdown",
   "metadata": {},
   "source": [
    "Check dataset before merge:"
   ]
  },
  {
   "cell_type": "code",
   "execution_count": 30,
   "metadata": {},
   "outputs": [
    {
     "data": {
      "text/plain": [
       "['country', 'crop', 'year', 'month', 'price']"
      ]
     },
     "execution_count": 30,
     "metadata": {},
     "output_type": "execute_result"
    }
   ],
   "source": [
    "list(PriceFinal)"
   ]
  },
  {
   "cell_type": "code",
   "execution_count": 29,
   "metadata": {},
   "outputs": [
    {
     "data": {
      "text/plain": [
       "['temperature', 'year', 'month', 'country']"
      ]
     },
     "execution_count": 29,
     "metadata": {},
     "output_type": "execute_result"
    }
   ],
   "source": [
    "list(TempFinal)"
   ]
  },
  {
   "cell_type": "code",
   "execution_count": 28,
   "metadata": {},
   "outputs": [
    {
     "data": {
      "text/plain": [
       "['rainfall', 'year', 'month', 'country']"
      ]
     },
     "execution_count": 28,
     "metadata": {},
     "output_type": "execute_result"
    }
   ],
   "source": [
    "list(RainfallFinal)"
   ]
  },
  {
   "cell_type": "markdown",
   "metadata": {},
   "source": [
    "Merge three dataset:"
   ]
  },
  {
   "cell_type": "code",
   "execution_count": 40,
   "metadata": {},
   "outputs": [],
   "source": [
    "DataFinal = pd.merge(PriceFinal, TempFinal, how='left', on=[\"country\",\"year\",\"month\"])"
   ]
  },
  {
   "cell_type": "code",
   "execution_count": 41,
   "metadata": {},
   "outputs": [],
   "source": [
    "DataFinal = pd.merge(DataFinal, RainfallFinal, how='left', on=[\"country\",\"year\",\"month\"])"
   ]
  },
  {
   "cell_type": "code",
   "execution_count": 42,
   "metadata": {},
   "outputs": [
    {
     "data": {
      "text/html": [
       "<div>\n",
       "<style scoped>\n",
       "    .dataframe tbody tr th:only-of-type {\n",
       "        vertical-align: middle;\n",
       "    }\n",
       "\n",
       "    .dataframe tbody tr th {\n",
       "        vertical-align: top;\n",
       "    }\n",
       "\n",
       "    .dataframe thead th {\n",
       "        text-align: right;\n",
       "    }\n",
       "</style>\n",
       "<table border=\"1\" class=\"dataframe\">\n",
       "  <thead>\n",
       "    <tr style=\"text-align: right;\">\n",
       "      <th></th>\n",
       "      <th>country</th>\n",
       "      <th>crop</th>\n",
       "      <th>year</th>\n",
       "      <th>month</th>\n",
       "      <th>price</th>\n",
       "      <th>temperature</th>\n",
       "      <th>rainfall</th>\n",
       "    </tr>\n",
       "  </thead>\n",
       "  <tbody>\n",
       "    <tr>\n",
       "      <th>0</th>\n",
       "      <td>Peru</td>\n",
       "      <td>Potatoes</td>\n",
       "      <td>2006</td>\n",
       "      <td>1</td>\n",
       "      <td>1.05</td>\n",
       "      <td>20.1541</td>\n",
       "      <td>232.7470</td>\n",
       "    </tr>\n",
       "    <tr>\n",
       "      <th>1</th>\n",
       "      <td>Peru</td>\n",
       "      <td>Potatoes</td>\n",
       "      <td>2006</td>\n",
       "      <td>2</td>\n",
       "      <td>1.17</td>\n",
       "      <td>20.0151</td>\n",
       "      <td>198.3800</td>\n",
       "    </tr>\n",
       "    <tr>\n",
       "      <th>2</th>\n",
       "      <td>Peru</td>\n",
       "      <td>Potatoes</td>\n",
       "      <td>2006</td>\n",
       "      <td>3</td>\n",
       "      <td>1.21</td>\n",
       "      <td>20.4858</td>\n",
       "      <td>209.4350</td>\n",
       "    </tr>\n",
       "    <tr>\n",
       "      <th>3</th>\n",
       "      <td>Peru</td>\n",
       "      <td>Potatoes</td>\n",
       "      <td>2006</td>\n",
       "      <td>4</td>\n",
       "      <td>1.21</td>\n",
       "      <td>19.7383</td>\n",
       "      <td>160.2090</td>\n",
       "    </tr>\n",
       "    <tr>\n",
       "      <th>4</th>\n",
       "      <td>Peru</td>\n",
       "      <td>Potatoes</td>\n",
       "      <td>2006</td>\n",
       "      <td>5</td>\n",
       "      <td>1.12</td>\n",
       "      <td>18.8578</td>\n",
       "      <td>133.9840</td>\n",
       "    </tr>\n",
       "    <tr>\n",
       "      <th>5</th>\n",
       "      <td>Peru</td>\n",
       "      <td>Potatoes</td>\n",
       "      <td>2006</td>\n",
       "      <td>6</td>\n",
       "      <td>1.05</td>\n",
       "      <td>18.8404</td>\n",
       "      <td>125.1930</td>\n",
       "    </tr>\n",
       "    <tr>\n",
       "      <th>6</th>\n",
       "      <td>Peru</td>\n",
       "      <td>Potatoes</td>\n",
       "      <td>2006</td>\n",
       "      <td>7</td>\n",
       "      <td>1.02</td>\n",
       "      <td>18.8449</td>\n",
       "      <td>55.9922</td>\n",
       "    </tr>\n",
       "    <tr>\n",
       "      <th>7</th>\n",
       "      <td>Peru</td>\n",
       "      <td>Potatoes</td>\n",
       "      <td>2006</td>\n",
       "      <td>8</td>\n",
       "      <td>1.02</td>\n",
       "      <td>18.9065</td>\n",
       "      <td>84.1931</td>\n",
       "    </tr>\n",
       "    <tr>\n",
       "      <th>8</th>\n",
       "      <td>Peru</td>\n",
       "      <td>Potatoes</td>\n",
       "      <td>2006</td>\n",
       "      <td>9</td>\n",
       "      <td>1.08</td>\n",
       "      <td>19.7259</td>\n",
       "      <td>60.5310</td>\n",
       "    </tr>\n",
       "    <tr>\n",
       "      <th>9</th>\n",
       "      <td>Peru</td>\n",
       "      <td>Potatoes</td>\n",
       "      <td>2006</td>\n",
       "      <td>10</td>\n",
       "      <td>1.08</td>\n",
       "      <td>19.9284</td>\n",
       "      <td>127.3150</td>\n",
       "    </tr>\n",
       "  </tbody>\n",
       "</table>\n",
       "</div>"
      ],
      "text/plain": [
       "  country      crop  year  month  price  temperature  rainfall\n",
       "0    Peru  Potatoes  2006      1   1.05      20.1541  232.7470\n",
       "1    Peru  Potatoes  2006      2   1.17      20.0151  198.3800\n",
       "2    Peru  Potatoes  2006      3   1.21      20.4858  209.4350\n",
       "3    Peru  Potatoes  2006      4   1.21      19.7383  160.2090\n",
       "4    Peru  Potatoes  2006      5   1.12      18.8578  133.9840\n",
       "5    Peru  Potatoes  2006      6   1.05      18.8404  125.1930\n",
       "6    Peru  Potatoes  2006      7   1.02      18.8449   55.9922\n",
       "7    Peru  Potatoes  2006      8   1.02      18.9065   84.1931\n",
       "8    Peru  Potatoes  2006      9   1.08      19.7259   60.5310\n",
       "9    Peru  Potatoes  2006     10   1.08      19.9284  127.3150"
      ]
     },
     "execution_count": 42,
     "metadata": {},
     "output_type": "execute_result"
    }
   ],
   "source": [
    "DataFinal.head(10)"
   ]
  },
  {
   "cell_type": "code",
   "execution_count": 43,
   "metadata": {},
   "outputs": [
    {
     "data": {
      "text/html": [
       "<div>\n",
       "<style scoped>\n",
       "    .dataframe tbody tr th:only-of-type {\n",
       "        vertical-align: middle;\n",
       "    }\n",
       "\n",
       "    .dataframe tbody tr th {\n",
       "        vertical-align: top;\n",
       "    }\n",
       "\n",
       "    .dataframe thead th {\n",
       "        text-align: right;\n",
       "    }\n",
       "</style>\n",
       "<table border=\"1\" class=\"dataframe\">\n",
       "  <thead>\n",
       "    <tr style=\"text-align: right;\">\n",
       "      <th></th>\n",
       "      <th>country</th>\n",
       "      <th>crop</th>\n",
       "      <th>year</th>\n",
       "      <th>month</th>\n",
       "      <th>price</th>\n",
       "      <th>temperature</th>\n",
       "      <th>rainfall</th>\n",
       "    </tr>\n",
       "  </thead>\n",
       "  <tbody>\n",
       "    <tr>\n",
       "      <th>114</th>\n",
       "      <td>Peru</td>\n",
       "      <td>Potatoes</td>\n",
       "      <td>2015</td>\n",
       "      <td>8</td>\n",
       "      <td>1.52</td>\n",
       "      <td>20.1966</td>\n",
       "      <td>58.2170</td>\n",
       "    </tr>\n",
       "    <tr>\n",
       "      <th>115</th>\n",
       "      <td>Peru</td>\n",
       "      <td>Potatoes</td>\n",
       "      <td>2015</td>\n",
       "      <td>9</td>\n",
       "      <td>1.56</td>\n",
       "      <td>20.8076</td>\n",
       "      <td>57.6487</td>\n",
       "    </tr>\n",
       "    <tr>\n",
       "      <th>116</th>\n",
       "      <td>Peru</td>\n",
       "      <td>Potatoes</td>\n",
       "      <td>2015</td>\n",
       "      <td>10</td>\n",
       "      <td>1.72</td>\n",
       "      <td>20.8017</td>\n",
       "      <td>64.1029</td>\n",
       "    </tr>\n",
       "    <tr>\n",
       "      <th>117</th>\n",
       "      <td>Peru</td>\n",
       "      <td>Potatoes</td>\n",
       "      <td>2015</td>\n",
       "      <td>11</td>\n",
       "      <td>2.17</td>\n",
       "      <td>21.0716</td>\n",
       "      <td>99.1171</td>\n",
       "    </tr>\n",
       "    <tr>\n",
       "      <th>118</th>\n",
       "      <td>Peru</td>\n",
       "      <td>Potatoes</td>\n",
       "      <td>2015</td>\n",
       "      <td>12</td>\n",
       "      <td>2.49</td>\n",
       "      <td>20.7846</td>\n",
       "      <td>151.3360</td>\n",
       "    </tr>\n",
       "  </tbody>\n",
       "</table>\n",
       "</div>"
      ],
      "text/plain": [
       "    country      crop  year  month  price  temperature  rainfall\n",
       "114    Peru  Potatoes  2015      8   1.52      20.1966   58.2170\n",
       "115    Peru  Potatoes  2015      9   1.56      20.8076   57.6487\n",
       "116    Peru  Potatoes  2015     10   1.72      20.8017   64.1029\n",
       "117    Peru  Potatoes  2015     11   2.17      21.0716   99.1171\n",
       "118    Peru  Potatoes  2015     12   2.49      20.7846  151.3360"
      ]
     },
     "execution_count": 43,
     "metadata": {},
     "output_type": "execute_result"
    }
   ],
   "source": [
    "DataFinal.tail()"
   ]
  },
  {
   "cell_type": "markdown",
   "metadata": {},
   "source": [
    "Export final dataset:"
   ]
  },
  {
   "cell_type": "code",
   "execution_count": 44,
   "metadata": {},
   "outputs": [],
   "source": [
    "DataFinal.to_csv(\"DataFinal.csv\",index=None)"
   ]
  }
 ],
 "metadata": {
  "kernelspec": {
   "display_name": "Python 3",
   "language": "python",
   "name": "python3"
  },
  "language_info": {
   "codemirror_mode": {
    "name": "ipython",
    "version": 3
   },
   "file_extension": ".py",
   "mimetype": "text/x-python",
   "name": "python",
   "nbconvert_exporter": "python",
   "pygments_lexer": "ipython3",
   "version": "3.7.1"
  }
 },
 "nbformat": 4,
 "nbformat_minor": 2
}
